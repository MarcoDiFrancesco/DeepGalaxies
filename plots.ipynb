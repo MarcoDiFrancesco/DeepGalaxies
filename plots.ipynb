{
 "metadata": {
  "language_info": {
   "codemirror_mode": {
    "name": "ipython",
    "version": 3
   },
   "file_extension": ".py",
   "mimetype": "text/x-python",
   "name": "python",
   "nbconvert_exporter": "python",
   "pygments_lexer": "ipython3",
   "version": 3
  },
  "orig_nbformat": 4
 },
 "nbformat": 4,
 "nbformat_minor": 2,
 "cells": [
  {
   "cell_type": "code",
   "execution_count": null,
   "metadata": {},
   "outputs": [],
   "source": [
    "# Plot images by type\n",
    "images_dir = trainer.dataset.dest_dir\n",
    "img_by_type = {i: [] for i in range(10)}\n",
    "for img_name in os.listdir(images_dir):\n",
    "    # e.g. 3\n",
    "    img_type = int(img_name[:1])\n",
    "    img_by_type[img_type].append(img_name)\n",
    "\n",
    "rows = 2  # 1 removes the dimention\n",
    "fig, ax = plt.subplots(rows, 10, figsize=(40, 4 * rows))\n",
    "fig.suptitle(\"Image examples\")\n",
    "for i in range(10):\n",
    "    for j in range(rows):\n",
    "        img = img_by_type[i][j]\n",
    "        img = np.load(images_dir / img)\n",
    "        img = np.transpose(img, (2, 1, 0))\n",
    "        title = i\n",
    "        ax[j][i].set_title(title)\n",
    "        ax[j][i].imshow(img)"
   ]
  },
  {
   "cell_type": "code",
   "execution_count": null,
   "metadata": {},
   "outputs": [],
   "source": [
    "# Plot loss and accuracy\n",
    "fig, (ax1, ax2) = plt.subplots(2, figsize=(10, 11))\n",
    "# Get image sample\n",
    "img_size = trainer.train_ds[0][0].shape\n",
    "fig.suptitle(f\"VGG16 - Image size: {img_size} - LR: {trainer.lr}\")\n",
    "epochs = list(range(1, trainer.epochs + 1))\n",
    "# epochs = list(range(1, 12))\n",
    "train, test = ax1.plot(epochs, trainer.losses, label=\"test\")\n",
    "ax1.set_title(\"Loss\")\n",
    "ax1.legend((train, test), (\"Train\", \"Test\"))\n",
    "ax1.set_xlabel(\"Epochs\")\n",
    "ax1.set_ylabel(\"Loss\")\n",
    "\n",
    "train, test = ax2.plot(epochs, trainer.accuracies, label=\"test2\")\n",
    "ax2.set_title(\"Accuracy\")\n",
    "ax2.legend((train, test), (\"Train\", \"Test\"))\n",
    "ax2.yaxis.set_major_formatter(mtick.PercentFormatter())\n",
    "ax2.set_xlabel(\"Epochs\")\n",
    "ax2.set_ylabel(\"Accuracy\")\n",
    "plt.show()"
   ]
  }
 ]
}