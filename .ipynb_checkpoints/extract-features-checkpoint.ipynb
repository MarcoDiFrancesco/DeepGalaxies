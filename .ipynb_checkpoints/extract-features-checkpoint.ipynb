{
 "cells": [
  {
   "cell_type": "code",
   "execution_count": 1,
   "metadata": {},
   "outputs": [
    {
     "name": "stdout",
     "output_type": "stream",
     "text": [
      "Using pre-trained weights\n",
      "Dataset train of 9896 images loaded\n",
      "Dataset validation of 2519 images loaded\n"
     ]
    },
    {
     "name": "stderr",
     "output_type": "stream",
     "text": [
      "100%|██████████████████████████████████████████████████████████| 155/155 [02:03<00:00,  1.26it/s]\n",
      "100%|████████████████████████████████████████████████████████████| 40/40 [00:31<00:00,  1.25it/s]\n"
     ]
    }
   ],
   "source": [
    "from pathlib import Path\n",
    "from Trainer import Trainer\n",
    "import os\n",
    "import seaborn as sns\n",
    "import umap\n",
    "import matplotlib.pyplot as plt\n",
    "from sklearn.manifold import TSNE\n",
    "from sklearn.decomposition import PCA\n",
    "import warnings\n",
    "\n",
    "warnings.filterwarnings('ignore')\n",
    "os.environ[\"CUDA_VISIBLE_DEVICES\"] = \"2\"\n",
    "model_path = Path(\"/\") / \"thunderdisk\" / \"data_rene_policistico_log\" / \"2021-08-04 11:36:30\" / \"90.pth\"\n",
    "trainer = Trainer(model_path, feature_extraction=True)\n",
    "features_t, labels_t = trainer.extract_features(trainer.train_dl)\n",
    "features_v, labels_v = trainer.extract_features(trainer.valid_dl)\n",
    "\n",
    "galaxy_map = trainer.train_ds.galaxy_names\n",
    "# Map int to galaxy name\n",
    "named_labels_t = [galaxy_map[i] for i in labels_t]\n",
    "named_labels_v = [galaxy_map[i] for i in labels_v]\n",
    "\n",
    "palette = sns.color_palette(\"bright\")\n",
    "def show_plot(data, type):\n",
    "    hue = named_labels_t if type == \"t\" else named_labels_v\n",
    "    plt.figure(figsize=(10, 10), dpi=80)\n",
    "    sns.scatterplot(data[:, 0], data[:, 1], palette=palette, hue=hue, legend=\"full\")\n",
    "    plt.show()"
   ]
  },
  {
   "cell_type": "markdown",
   "metadata": {},
   "source": [
    "# UMAP"
   ]
  },
  {
   "cell_type": "code",
   "execution_count": null,
   "metadata": {},
   "outputs": [],
   "source": [
    "umap_t = umap.UMAP().fit_transform(features_t)\n",
    "print(features_t.shape, \"->\", umap_t.shape)\n",
    "umap_v = umap.UMAP().fit_transform(features_v)\n",
    "print(features_v.shape, \"->\", umap_v.shape)"
   ]
  },
  {
   "cell_type": "code",
   "execution_count": null,
   "metadata": {},
   "outputs": [],
   "source": [
    "show_plot(umap_t, \"t\")\n",
    "show_plot(umap_v, \"v\")"
   ]
  },
  {
   "cell_type": "markdown",
   "metadata": {},
   "source": [
    "# TSNE"
   ]
  },
  {
   "cell_type": "code",
   "execution_count": null,
   "metadata": {},
   "outputs": [],
   "source": [
    "tsne_t = TSNE(n_components=2).fit_transform(features_t)\n",
    "print(features_t.shape, \"->\", tsne_t.shape)\n",
    "tsne_v = TSNE(n_components=2).fit_transform(features_v)\n",
    "print(features_v.shape, \"->\", tsne_v.shape)"
   ]
  },
  {
   "cell_type": "code",
   "execution_count": null,
   "metadata": {},
   "outputs": [],
   "source": [
    "show_plot(tsne_t, \"t\")\n",
    "show_plot(tsne_v, \"v\")"
   ]
  },
  {
   "cell_type": "markdown",
   "metadata": {},
   "source": [
    "# PCA"
   ]
  },
  {
   "cell_type": "code",
   "execution_count": null,
   "metadata": {},
   "outputs": [],
   "source": [
    "pca_t = PCA(n_components=2).fit_transform(features_t)\n",
    "print(features_t.shape, \"->\", tsne_t.shape)\n",
    "pca_v = PCA(n_components=2).fit_transform(features_v)\n",
    "print(features_v.shape, \"->\", tsne_v.shape)"
   ]
  },
  {
   "cell_type": "code",
   "execution_count": null,
   "metadata": {},
   "outputs": [],
   "source": [
    "show_plot(pca_t, \"t\")\n",
    "show_plot(pca_v, \"v\")"
   ]
  }
 ],
 "metadata": {
  "interpreter": {
   "hash": "b9566e31ce0e9a6774b7804ecf4a8f72be487f90469d013ac886d300e9402f1c"
  },
  "kernelspec": {
   "display_name": "Python 3 (ipykernel)",
   "language": "python",
   "name": "python3"
  },
  "language_info": {
   "codemirror_mode": {
    "name": "ipython",
    "version": 3
   },
   "file_extension": ".py",
   "mimetype": "text/x-python",
   "name": "python",
   "nbconvert_exporter": "python",
   "pygments_lexer": "ipython3",
   "version": "3.7.3"
  }
 },
 "nbformat": 4,
 "nbformat_minor": 4
}
